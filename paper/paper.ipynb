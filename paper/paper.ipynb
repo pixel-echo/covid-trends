{
  "cells": [
    {
      "cell_type": "raw",
      "metadata": {},
      "source": [
        "---\n",
        "title: \"Covid Trends\"\n",
        "author:\n",
        "  - Tara Chakkithara\n",
        "date: today\n",
        "date-format: long\n",
        "abstract: \"Throughout history, human societies have confronted many communicable diseases but the COVID-19 pandemic stands out significantly, as being the first pandemic met with a structured and technologically advanced response. This paper investigates Toronto’s COVID response plan and outcomes, along with an examination of the varying prevalence of the illness among different populations in the city. Demographics such as age, sex, district, health, and homelessness were considered. A linear model was constructed to infer COVID-19 fatality based on this data. The findings of this study highlight that populations such as the elderly, the homeless, and people with pre-existing health conditions are especially vulnerable to COVID-19. These results highlight target areas that could be used to improve public health policies in the future.\"\n",
        "pdf-engine: pdflatex\n",
        "format:\n",
        "  pdf:\n",
        "    toc: true\n",
        "    documentclass: article\n",
        "    geometry:\n",
        "      - top=30mm\n",
        "      - left=20mm\n",
        "      - heightrounded\n",
        "include: false\n",
        "warning: false\n",
        "message: false\n",
        "number-sections: true\n",
        "bibliography: references.bib\n",
        "---"
      ],
      "id": "f232fddd"
    },
    {
      "cell_type": "markdown",
      "metadata": {},
      "source": [
        "```{toc}\n",
        "asdf\n",
        "```"
      ],
      "id": "3b0a0d23"
    }
  ],
  "metadata": {
    "kernelspec": {
      "display_name": "Python 3",
      "language": "python",
      "name": "python3"
    }
  },
  "nbformat": 4,
  "nbformat_minor": 5
}